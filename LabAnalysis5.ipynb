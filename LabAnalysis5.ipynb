{
  "nbformat": 4,
  "nbformat_minor": 0,
  "metadata": {
    "colab": {
      "provenance": [],
      "include_colab_link": true
    },
    "kernelspec": {
      "name": "python3",
      "display_name": "Python 3"
    },
    "language_info": {
      "name": "python"
    }
  },
  "cells": [
    {
      "cell_type": "markdown",
      "metadata": {
        "id": "view-in-github",
        "colab_type": "text"
      },
      "source": [
        "<a href=\"https://colab.research.google.com/github/NYU-IEP-2022-3-Classroom/lab5-data-repository-Stefan-Physics/blob/main/LabAnalysis5.ipynb\" target=\"_parent\"><img src=\"https://colab.research.google.com/assets/colab-badge.svg\" alt=\"Open In Colab\"/></a>"
      ]
    },
    {
      "cell_type": "markdown",
      "metadata": {
        "id": "9AuAie9jNGst"
      },
      "source": [
        "**In this assigmnent, you will add to existing code.** Each line you have to write has a numbered comment, so you won't miss one, CODE1, CODE2...CODE25\n",
        "\n",
        "**If something doesn't work the way you think it should,** please email the Professor and the TAs for help. This notebook started as working code; we removed lines to create the assignment. This process might have introduced an unexpected error. "
      ]
    },
    {
      "cell_type": "markdown",
      "metadata": {
        "id": "RBFO6nTSr9p1"
      },
      "source": [
        "As in other assignments, this first code block is meant to set things up. Below, modify the ```!git clone``` line so that the url points to your own data repository.\n",
        "\n"
      ]
    },
    {
      "cell_type": "code",
      "metadata": {
        "id": "rl2JqjsMqXUV",
        "colab": {
          "base_uri": "https://localhost:8080/"
        },
        "outputId": "36c63b86-a5f4-42ee-ef03-42dbdbe4a927"
      },
      "source": [
        "# necessary libraries\n",
        "import numpy as np\n",
        "import matplotlib.pyplot as plt\n",
        "import os, glob\n",
        "import scipy.optimize\n",
        "import itertools,operator\n",
        "\n",
        "# MODIFY THIS LINE SO THAT THE URL POINTS TO YOUR DATA REPOSITORY by replacing \"your_github_username\" with your github user name \n",
        "# DO NOT delete the \"data\" at the end of the line \n",
        "!git clone https://github.com/NYU-IEP-2022-3-Classroom/lab5-sample-data data\n",
        "\n"
      ],
      "execution_count": 1,
      "outputs": [
        {
          "output_type": "stream",
          "name": "stdout",
          "text": [
            "Cloning into 'data'...\n",
            "remote: Enumerating objects: 402, done.\u001b[K\n",
            "remote: Counting objects: 100% (9/9), done.\u001b[K\n",
            "remote: Compressing objects: 100% (8/8), done.\u001b[K\n",
            "remote: Total 402 (delta 0), reused 9 (delta 0), pack-reused 393\u001b[K\n",
            "Receiving objects: 100% (402/402), 58.29 MiB | 3.32 MiB/s, done.\n",
            "Resolving deltas: 100% (58/58), done.\n"
          ]
        }
      ]
    },
    {
      "cell_type": "markdown",
      "metadata": {
        "id": "o9-yrTRqwKBW"
      },
      "source": [
        "These functions are needed to load the data, check that the data is valid (as in there aren't wild jumps in amplitude or period that would be due to measurement malfunctions), and return the largest sequences of valid data. Not important to know how they work, just how to run them."
      ]
    },
    {
      "cell_type": "code",
      "metadata": {
        "id": "jlyQoBQBZdzG"
      },
      "source": [
        "def findOrbitFiles (startdir):\n",
        "  #orbitFiles = findOrbitFiles(startdir)\n",
        "  # input stardir: path to top level directory (e.g. data_repository/large bob)\n",
        "  # output orbitFiles: dictionary with paths to orbit files, key names are taken from directories under startdir \n",
        "  #   e.g. if startdir has a directory 2mm, then\n",
        "  #   orbitFiles[\"2mm\"] is a list of paths to all slope files (end _slope.txt) \n",
        "  #   under this directory, even in subdirectories\n",
        "\n",
        "  #https://stackoverflow.com/questions/3964681/find-all-files-in-a-directory-with-extension-txt-in-python\n",
        "  #https://www.kite.com/python/answers/how-to-search-for-specific-files-in-subdirectories-in-python\n",
        "\n",
        "  orbitFiles = dict()\n",
        "  for entry in os.scandir(startdir):\n",
        "    if (entry.is_dir):\n",
        "      key = entry.name\n",
        "      orbitFiles[key] = sorted(glob.glob(entry.path + '/**/*_orbit.txt'))\n",
        "  return orbitFiles\n",
        "\n",
        "# needed to check data validity\n",
        "# returns the indices of the first and last element of the largest sequence of true in a list of booleans\n",
        "def longestTrueSequence(seq):\n",
        "  #adapted from https://stackoverflow.com/questions/40166522/find-longest-sequence-of-0s-in-the-integer-list\n",
        "  r = max((list(y) for (x,y) in itertools.groupby((enumerate(seq)),operator.itemgetter(1)) if x), key=len)\n",
        "  return (r[0][0], r[-1][0])\n",
        "\n",
        "# Checking data validity (no wild outliers)\n",
        "# returns indices of the longest sequence of valid data\n",
        "def sanityCheck(time, slope, amplitude, number, maxTime = np.inf):\n",
        "  dt = np.diff(time)\n",
        "  dslope = np.diff(np.abs(np.log(slope)))\n",
        "  damplitude = np.diff(np.abs(np.log(amplitude)))\n",
        "  dn = np.diff(number)\n",
        "  maxperiod = 5 #equivalent to 6 meter pendulum\n",
        "  maxchange = np.log(1.25) #don't allow an INCREASE of more than 25%\n",
        "  valid = ((dt > 0) & (dt < maxperiod) & (dslope < maxchange) & (damplitude < maxchange) & (dn > 0) & (dn == 2))\n",
        "  (start,stop) = longestTrueSequence(valid)\n",
        "  if start > 0:\n",
        "    start = start+1\n",
        "  t0 = time[start]\n",
        "  tt = time[start:stop+1]\n",
        "  stop = np.argmax(tt[(tt-t0) <= maxTime]) + start\n",
        "  return range(start, stop+1)\n",
        "\n",
        "# load slope and get longest valid sequence\n",
        "# takes the absolute value of slope \n",
        "# inputs: filepath - path of the file\n",
        "#         maxTime - optional, longest duration to load\n",
        "# outputs: time - time of the crossing: (file contains every other crossing, e.g. 1 per period)\n",
        "#          slope - absolute value of slope at the crossing (V/s)\n",
        "#          majaxis - major axis (mm)\n",
        "#          minaxis - minor axis (mm)\n",
        "#          \n",
        "def loadOrbitFile(filepath, maxTime = 10000000):\n",
        "  #num crossings\ttime (s)\tmaj axis (mm)\tmin axis (mm)\ttheta (rad )\tslope (V/s)\n",
        "  num, time, majaxis, minaxis, theta, slope = np.loadtxt(filepath, skiprows = 1, unpack=True)\n",
        "  validInds = sanityCheck(time,np.abs(slope),majaxis,num,maxTime)\n",
        "  num = num[validInds]\n",
        "  time = time[validInds]\n",
        "  time = time - time[0] #0 reference time\n",
        "  majaxis = majaxis[validInds]\n",
        "  minaxis = minaxis[validInds]\n",
        "  slope = np.abs(slope[validInds])\n",
        "\n",
        "  return (time,slope,majaxis,minaxis)\n"
      ],
      "execution_count": 2,
      "outputs": []
    },
    {
      "cell_type": "markdown",
      "metadata": {
        "id": "e2xLlcEjwq_V"
      },
      "source": [
        "These functions do the equation fitting, and you should review how fitting works. FitLine should be especially familiar to you. These will be used to fit your data to exponential and linear curves."
      ]
    },
    {
      "cell_type": "code",
      "metadata": {
        "id": "Cl8RA_5ewqH4"
      },
      "source": [
        "# fitting an exponential\n",
        "# exponential has two parameters, the y-intercept (a) and the\n",
        "# exponential multiplier constant (b which for our purposes is -1/tau)\n",
        "# inputs: x,y - numpy arrays\n",
        "# outputs: a: fit value of y(0)\n",
        "#          b: fit value of exonent\n",
        "#          fity: a * e^(bx) \n",
        "def fitExponential(x,y):\n",
        "  #rescale/recenter data so x starts at 0; y has max value of 1\n",
        "  xx = x - np.min(x)\n",
        "  yy = y / np.max(y)\n",
        "  fitparams, *_ = scipy.optimize.curve_fit(lambda xdata, a, b : a*np.exp(b * xdata), xx, yy, (1, -1/max(xx)))\n",
        "  a,b = fitparams\n",
        "  a = a*np.max(y)*np.exp(-b*np.min(x)) #undo effects of rescaling, recentering\n",
        "  return (a,b, a*np.exp(b*x))\n",
        "\n",
        "# fitting a line\n",
        "# line is polynomial of degree 1\n",
        "# two free parameters, the slope and the y intercept\n",
        "# inputs: x,y - numpy arrays\n",
        "# outputs: slope (m): fit value of slope\n",
        "#          intercept (b): fit value of intercept (y(0))\n",
        "#          fity: m*x + b\n",
        "def fitLine(x,y):\n",
        "  p = np.polyfit(x,y,1)\n",
        "  slope = p[0]\n",
        "  intercept = p[1]\n",
        "  return (slope, intercept, slope*x + intercept)"
      ],
      "execution_count": 3,
      "outputs": []
    },
    {
      "cell_type": "markdown",
      "metadata": {
        "id": "pq25hOc2yE5Z"
      },
      "source": [
        "The below block shows an example of how to load the data for the large bob. This will create two [dictionaries](https://physics.nyu.edu/pine/pymanual/html/chap3/chap3_arrays.html#dictionaries), ```largeSlope``` and ```largeAmplitude```, which contain the displacement as the key and the data from the text file as the value. In order to load the data, you will need to know the file structure of your repository and give the ```findSlopeAndAmplitudeFiles()``` function the proper path to the displacement folders. For example, ```'data/'``` is the top level folder and ```'large bob'``` is the next-level folder that contains all of the displacement folders ```'2'```, ```'3'```, ```'4'```, and so on."
      ]
    },
    {
      "cell_type": "code",
      "metadata": {
        "id": "kDPezAOMeUiO",
        "colab": {
          "base_uri": "https://localhost:8080/"
        },
        "outputId": "349d60a0-f60f-4c56-f15e-ef29c32d0d18"
      },
      "source": [
        "# loading data, need to know file structure of repository\n",
        "largeBobFiles = findOrbitFiles('data/Large Bob')\n",
        "\n",
        "#uncomment this line if you are also ready to analyze small bob data\n",
        "#smallBobFiles = findOrbitFiles('data/Small Bob')\n",
        "\n",
        "print (\"you should see a list of the files for 3 mm below:\")\n",
        "largeBobFiles[\"3\"] #note that I need the quotes around 3"
      ],
      "execution_count": 4,
      "outputs": [
        {
          "output_type": "stream",
          "name": "stdout",
          "text": [
            "you should see a list of the files for 3 mm below:\n"
          ]
        },
        {
          "output_type": "execute_result",
          "data": {
            "text/plain": [
              "['data/Large Bob/3/20230201100943/20230201100943_orbit.txt',\n",
              " 'data/Large Bob/3/20230201101116/20230201101116_orbit.txt',\n",
              " 'data/Large Bob/3/20230201101303/20230201101303_orbit.txt']"
            ]
          },
          "metadata": {},
          "execution_count": 4
        }
      ]
    },
    {
      "cell_type": "markdown",
      "source": [
        "##Write a function to analyze one file\n",
        "\n",
        "To analyze one file, we need to\n",
        "\n",
        "1. Load the data from disk\n",
        "1. Fit the slope vs. time to an exponential relation\n",
        "1. Fit the amplitude squared (= major axis$^2$ + minor axis$^2$) to an exponential relation\n",
        "1. Calculate the slope and amplitude lifetimes (the fit gives you a and b in the equation $s = a e^{b t}$, and $\\tau = -\\frac{1}{b}$). \n",
        "1. Plot the **slope** vs. time since the start of the measurement (`time`) and the fit on the same graph. Make the [y-axis logarithmic](https://physics.nyu.edu/pine/pymanual/html/chap5/chap5_plot.html#logarithmic-plots). The fit and probably the data should look like a straight line. Because we may want to analyze an experiment without plotting the data, we should only do the plot if the caller passes in an `matplotlib` `axis` to the optional keyword argument: `slope_plot_axis` to do the plot in. \n",
        "1. Plot the **amplitude squared** vs. time since the start of the measurement (`time`) and the fit on the same graph. Make the [y-axis logarithmic](https://physics.nyu.edu/pine/pymanual/html/chap5/chap5_plot.html#logarithmic-plots). The fit and probably the data should look like a straight line. Because we may want to analyze an experiment without plotting the data, we should only do the plot if the caller passes in an `matplotlib` `axis` to the optional keyword argument: `ampsq_plot_axis` to do the plot in. \n",
        "\n",
        "\n",
        "We've done a lot of this work for you - you will need to fill in the parts indicated by comments below"
      ],
      "metadata": {
        "id": "91kGvgoulkfN"
      }
    },
    {
      "cell_type": "code",
      "source": [
        "def analyzeFile(file, slope_plot_axis = None, ampsq_plot_axis = None):\n",
        "  \n",
        "  time,slope,majaxis,minaxis = loadOrbitFile(file)\n",
        "\n",
        "  #store the total energy in the variable ampsq\n",
        "  ampsq = majaxis**2 + minaxis**2\n",
        "\n",
        "  #fit the amplitude squared to an exponential of time\n",
        "  a_ampsq, b_ampsq, ampsq_fit = fitExponential(time,ampsq)\n",
        "\n",
        "  #CODE1: fit an exonential to the slope data\n",
        "  a_slope,b_slope,slope_fit = fitExponential(time, slope)\n",
        "\n",
        "\n",
        "  if not(slope_plot_axis is None):\n",
        "    slope_plot_axis.semilogy(time,slope,'k--' )\n",
        "    #CODE2: use semilogy to plot the fit slope vs time, as a dashed black line\n",
        "\n",
        "  if not(ampsq_plot_axis is None):\n",
        "    ampsq_plot_axis.semilogy(time, ampsq)\n",
        "    #slope_plot_axis.semilogy(time, slope, 'k--' ) ##or use slope instead of slope_fit\n",
        "    #CODE3: use semilogy to make a plot of time on the linear x-axis vs. amplitude squared on the logarithmic y-axis \n",
        "    #CODE4: use semilogy to plot the fit slope vs time, as a dashed black line\n",
        " \n",
        "  \n",
        "  lifetime_slope = -1/b_slope\n",
        "  #CODE5: calculate the amplitude squared lifetime and store the result in lifetime_ampsq\n",
        "  lifetime_ampsq = -1/b_ampsq #your code here\n",
        "\n",
        "  return (lifetime_slope, lifetime_ampsq)\n",
        "\n",
        "#this code tests your function - make sure it runs correctly\n",
        "\n",
        "file = largeBobFiles[\"3\"][0] #first 3 mm experiment - change if you don't have this directory structure or this data file\n",
        "print(\"analyzing {}\".format(file))\n",
        "\n",
        "plt.figure()\n",
        "ax1 = plt.subplot(1, 2, 1)\n",
        "ax2 = plt.subplot(1, 2, 2)\n",
        "\n",
        "(slope_tau, ampsq_tau) = analyzeFile(file, ax1, ax2)\n",
        "ax1.set_title(\"slope lifetime = {:.2f}\".format(slope_tau))\n",
        "ax2.set_title(\"slope lifetime = {:.2f}\".format(ampsq_tau))\n",
        "\n",
        "plt.figure()\n",
        "ax1 = plt.axes();\n",
        "analyzeFile(file, slope_plot_axis = ax1)\n",
        "ax1.set_title(\"this should just be the slope graph\")\n",
        "\n",
        "plt.figure()\n",
        "ax1 = plt.axes();\n",
        "analyzeFile(file, ampsq_plot_axis = ax1)\n",
        "ax1.set_title(\"this should just be the amplitude squared graph\")\n",
        "\n",
        "(slope_tau, ampsq_tau) = analyzeFile(file)\n",
        "print(\"I calculated the slope lifetime to be {:.2f} and the amplitude squared lifetime to be {:.2f}\".format(slope_tau, ampsq_tau))\n",
        "\n"
      ],
      "metadata": {
        "id": "S_AI4yVHUibW",
        "colab": {
          "base_uri": "https://localhost:8080/",
          "height": 845
        },
        "outputId": "e3efcfcf-35c1-41ed-940a-2fb4cfabe88e"
      },
      "execution_count": 10,
      "outputs": [
        {
          "output_type": "stream",
          "name": "stdout",
          "text": [
            "analyzing data/Large Bob/3/20230201100943/20230201100943_orbit.txt\n",
            "I calculated the slope lifetime to be 16.24 and the amplitude squared lifetime to be 16.05\n"
          ]
        },
        {
          "output_type": "display_data",
          "data": {
            "text/plain": [
              "<Figure size 432x288 with 2 Axes>"
            ],
            "image/png": "[encoded data removed]"
          },
          "metadata": {
            "needs_background": "light"
          }
        },
        {
          "output_type": "display_data",
          "data": {
            "text/plain": [
              "<Figure size 432x288 with 1 Axes>"
            ],
            "image/png": "[encoded data removed]"
          },
          "metadata": {
            "needs_background": "light"
          }
        },
        {
          "output_type": "display_data",
          "data": {
            "text/plain": [
              "<Figure size 432x288 with 1 Axes>"
            ],
            "image/png": "[encoded data removed]"
          },
          "metadata": {
            "needs_background": "light"
          }
        }
      ]
    },
    {
      "cell_type": "markdown",
      "source": [
        "##Write a function to analyze a whole directory\n",
        "\n",
        "To analyze the whole directory we need to\n",
        "\n",
        "1. Create empty lists to store the slope and amplitude lifetime results\n",
        "2. Loop over all the files in the directory:\n",
        "  1. Calculate the amplitude squared and slope lifetimes using `analyzeFile`\n",
        "  1. Append the results to the list of slope lifetimes and amplitude squared lifetimes\n",
        "3. Return the lists of lifetimes as numpy arrays for the caller to use in later analysis\n",
        "  "
      ],
      "metadata": {
        "id": "TeP9SCIysh_n"
      }
    },
    {
      "cell_type": "code",
      "source": [
        "def analyzeDirectory(listOfFiles, slope_plot_axis = None, ampsq_plot_axis = None): \n",
        "  #create empty lists slope_lifetime and ampsq_lifetime to store lifetimes\n",
        "  slope_lifetime = []\n",
        "  ampsq_lifetime = []\n",
        "  #CODE 6: create an empty list called ampsq_lifetime\n",
        "  for file in listOfFiles:\n",
        "    (slope_tau, ampsq_tau) = analyzeFile(file, slope_plot_axis, ampsq_plot_axis)\n",
        "    slope_lifetime.append(slope_tau)\n",
        "    ampsq_lifetime.append(ampsq_tau)\n",
        "    #CODE 7: append slope_tau to slope_lifetime\n",
        "    #CODE 8: append ampsq_tau to ampsq_lifetime\n",
        "\n",
        "  return(np.array(slope_lifetime), np.array(ampsq_lifetime))\n",
        "\n",
        "#this tests your function \n",
        "\n",
        "plt.figure()\n",
        "ax1 = plt.axes()\n",
        "plt.figure()\n",
        "ax2 = plt.axes()\n",
        "\n",
        "(slope_lifetime, ampsq_lifetime) = analyzeDirectory(largeBobFiles[\"3\"], ax1, ax2)\n",
        "mu_slope = np.mean(slope_lifetime)\n",
        "sigma_slope = np.std(slope_lifetime, ddof = 1)#calculates the standard deviation using N-1 in the deonminator\n",
        "ax1.set_title(r'slope: $\\mu$ = {:.1f}s, $\\sigma$ = {:.1f}s'.format(mu_slope, sigma_slope))\n",
        "\n",
        "mu_ampsq = np.mean(ampsq_lifetime)\n",
        "sigma_ampsq = np.std(ampsq_lifetime, ddof = 1)#calculates the standard deviation using N-1 in the deonminator\n",
        "ax2.set_title(r'ampsq: $\\mu$ = {:.1f}s, $\\sigma$ = {:.1f}s'.format(mu_ampsq, sigma_ampsq));\n"
      ],
      "metadata": {
        "id": "Ws-IRrRzuPLf",
        "colab": {
          "base_uri": "https://localhost:8080/",
          "height": 548
        },
        "outputId": "f57a5b6a-d175-42ac-eb60-2ba67af29d7a"
      },
      "execution_count": 13,
      "outputs": [
        {
          "output_type": "display_data",
          "data": {
            "text/plain": [
              "<Figure size 432x288 with 1 Axes>"
            ],
            "image/png": "[encoded data removed]"
          },
          "metadata": {
            "needs_background": "light"
          }
        },
        {
          "output_type": "display_data",
          "data": {
            "text/plain": [
              "<Figure size 432x288 with 1 Axes>"
            ],
            "image/png": "[encoded data removed]"
          },
          "metadata": {
            "needs_background": "light"
          }
        }
      ]
    },
    {
      "cell_type": "markdown",
      "source": [
        "##Look at some examples from your data\n",
        "\n",
        "1. Using `analyzeDirectory`, analyze a short distance (like 1 or 2 mm), an intermediate distance (4 or 5 mm), and a long distance (9 or 10 mm)\n",
        "1. For each directory analyzed, plot the slope and amplitude data and fits in separate figure windows (see the example above) and title them with the mean and standard deviation of the lifetimes (see the example above)\n",
        "\n",
        "You can do this with a loop, borrowing liberally/copying from the test code in the cell above. It's always fine to cut and paste my example code, but please just add a comment saying  #copied from example code\n",
        "\n"
      ],
      "metadata": {
        "id": "G81_Qj0Swn3O"
      }
    },
    {
      "cell_type": "code",
      "source": [
        "dirsToAnalyze = [largeBobFiles[key] for key in (\"1\",\"4\",\"9\")]\n",
        "for expt_set_dir in dirsToAnalyze:\n",
        "  \n",
        "  #CODE 9 (multiple lines of code): create two figures (e.g. plt.figure()), create an axes in each figure and store the `axis handle` (e.g. ax1 = plt.axes())\n",
        "  #CODE 10: call analyzeDirectory on expt_set_dir, ax1, and ax2 : store the output arrays in (slope_lifetime, ampsq_lifetime)\n",
        "  #CODE 11: calculate the mean of the slope lifetime and store it in mu_slope\n",
        "  #CODE 12: calculate the standard deviation of the slope lifetime, using np.std and the 'ddof = 1' keyword argument \n",
        "  #CODE 13: title the axis containing the slope fit plot with slope: mu = (mean lifetime), sigma = (std of lifetime)\n",
        "  #CODE 14-16: The same, but for amplitude squared\n",
        "\n",
        "\n",
        "\n"
      ],
      "metadata": {
        "id": "AxgJvLRWyv5k"
      },
      "execution_count": null,
      "outputs": []
    },
    {
      "cell_type": "markdown",
      "metadata": {
        "id": "gtk683LP-YW8"
      },
      "source": [
        "##QUESTIONS - answer below \n",
        "\n",
        "1. What evidence do you have that the energy decays exponentially (or that it does not)? Can you see any deviations from exponential decay? If so, where are these most evident?\n",
        "2. Are the slope and amplitude measurements consistent with each other?\n",
        "3. Based on a visual examination of the graphs, which measurement of the energy of the bob has more noise (slope or amplitude squared)\n",
        "4. Based on the standard deviation of the lifetime measurements, which measurement of the lifetime (fit to slope or fit to amplitude squared) has less experimental error?"
      ]
    },
    {
      "cell_type": "markdown",
      "metadata": {
        "id": "BKwPtN83-KDB"
      },
      "source": [
        "#Lifetime vs. separation\n",
        "\n",
        "OK, now let's look at the whole data set. We want to find a relation between the separation and the lifetime. \n",
        "\n",
        "We need to do the following:\n",
        "1. Make a list of all the directories we want analyzed\n",
        "1. Define a numerical value of the height for each directory. \n",
        "1. Loop over all the directories. For each directory\n",
        "  1. Calculate the lifetime from each experiment. I'm using slope, because I think it was more reliable in my data set. You can use amplitude squared if you think that's better. Justify your choice. \n",
        "  1. Find the mean and standard deviation of these lifetimes. \n",
        "  1. Calculate the standard error of the mean as the standard deviation over the square root of the number of measurements\n",
        "1. Make an [error bar plot](https://physics.nyu.edu/pine/pymanual/html/chap5/chap5_plot.html#error-bars) of lifetime vs. separation. My error bars were small enough they were hard to see. How about yours?"
      ]
    },
    {
      "cell_type": "code",
      "metadata": {
        "id": "6iHwxA9qCB1i"
      },
      "source": [
        "lg_dir = (\"1\", \"2\", \"3\", \"4\", \"5\", \"6\", \"7\", \"8\",\"9\",\"10\") #if needed, replace with your directory names\n",
        "lg_h = np.array((1,2,3,4,5,6,7,8,9,10),'float') #if you changed directory names, make sure you have matching distances here\n",
        "\n",
        "dirs_to_analyze = [largeBobFiles[k] for k in lg_dir]\n",
        "\n",
        "#initialize numpy arrays\n",
        "lg_tau = lg_h*0.;\n",
        "lg_tau_sigma = lg_h*0.;\n",
        "lg_tau_sem = lg_h*0.;\n",
        "\n",
        "for i in range(len(dirs_to_analyze)):\n",
        "    (_,lifetime) = analyzeDirectory(dirs_to_analyze[i])\n",
        "    lg_tau[i] =  #CODE 17: calculate mean of lifetime list\n",
        "    lg_tau_sigma[i] =  #CODE 18: calculate std of lifetime list, using `ddof = 1` keyword argument\n",
        "    lg_tau_sem[i] = lg_tau_sigma[i] / np.sqrt(len(lifetime))\n",
        "\n",
        "#CODE19: use plt.errorbar to makea plot of lg_tau vs. tg_h with yerr of lg_tau_sem\n",
        "#CODE20: add title (lifetime vs. separation) xlabel (separation(mm)) and ylabel (lifetime(s)). hint add a ; to the end of the last line to eliminate the annoying text message in the output\n"
      ],
      "execution_count": null,
      "outputs": []
    },
    {
      "cell_type": "markdown",
      "metadata": {
        "id": "CcX99ZnFsXWU"
      },
      "source": [
        "##Fit lifetime vs. height to a power law\n",
        "\n",
        "if $\\tau = a h^b$, then $\\log(\\tau) = b \\log(h) + \\log(a)$ \n",
        "\n",
        "in other words, a log-log graph will look like a straight line\n",
        "\n",
        "use the plt.loglog command to plot lifetime (lg_tau) vs separation (lg_h)\n",
        "\n",
        "use 'bo-' (blue circles connectd by lines) for the line type\n",
        "\n",
        "\n"
      ]
    },
    {
      "cell_type": "code",
      "metadata": {
        "id": "f-aAPgrVtKaU"
      },
      "source": [
        "#CODE 21: log log plot of lag_tau (y-axis) vs lg_h (x-axis), with linetype (3rd argument) 'bo-'"
      ],
      "execution_count": null,
      "outputs": []
    },
    {
      "cell_type": "markdown",
      "metadata": {
        "id": "I_hXwEXUthNW"
      },
      "source": [
        "##Fit lifetime vs. height to a power law, take 2\n",
        "\n",
        "If your data is like mine, this doesn't look like a very straight line. The problem is that the real form is probably something like \n",
        "\n",
        "$\\tau = a (h + h_0)^b$, and $\\log(\\tau) = b \\log(h+h_0) + \\log(a)$ \n",
        "\n",
        "where $h_0$ is some offset due to the thickness of the magnet and the aluminum plate. The magnet is 3/16\" thick and the plate is 1/8\" thick. Together, that's about 8mm of thickness, and the distance between their centers is therefore 4 mm. \n",
        "\n",
        "try putting in an offset of 4 mm (plot tau vs. h + 4) and see if it looks more like a straight line. "
      ]
    },
    {
      "cell_type": "code",
      "metadata": {
        "id": "7_0XXfrRgcDX"
      },
      "source": [
        "#CODE 22: like 21, but with lg_h+4"
      ],
      "execution_count": null,
      "outputs": []
    },
    {
      "cell_type": "markdown",
      "metadata": {
        "id": "XLbK3UmxyWiZ"
      },
      "source": [
        "##Well that looks good, but....\n",
        "\n",
        "Now do the same things for offsets of 3 and 5 mm... Do you still see a straight line?"
      ]
    },
    {
      "cell_type": "code",
      "metadata": {
        "id": "1S2xnr7Xyvni"
      },
      "source": [
        "#CODE 23: two lines: log-log plots of lifetime vs. separation + 3mm and + 5mm, one in red and one in blue"
      ],
      "execution_count": null,
      "outputs": []
    },
    {
      "cell_type": "markdown",
      "metadata": {
        "id": "lqvlnN5QzBBV"
      },
      "source": [
        "## Use the residuals to find the most likely value of the separation\n",
        "\n",
        "The residuals (the difference of the measured value from the fit value) can be used to tell you the quality of a fit. Assuming each measurement has equal error, the best fit is the one that minimizes the sum of the square of the residuals\n",
        "\n",
        "minimize $\\sum_h(\\tau(h) - \\tau_{fit}(h))^2$\n",
        "\n",
        "below, I've written a function that calculates the sum of the squared residuals for a power law fit, given some offset $h_0$.  Then I make a graph of this sum vs. my guess of $h_0$ \n",
        "\n",
        "I need you to write a few lines for me\n"
      ]
    },
    {
      "cell_type": "code",
      "metadata": {
        "id": "QkH8usifkxbJ"
      },
      "source": [
        "def powerLawResidualSqSum(h, tau, h0):\n",
        "  x = np.log(h + h0)\n",
        "  y = np.log(tau)\n",
        "  m,b,yfit = fitLine(x,y)\n",
        "  tau_fit = np.exp(yfit)\n",
        "  return  #CODE 24: sum of tau - tau_fit squared \n",
        " \n",
        "\n",
        "offset = np.arange(1,10,.1)\n",
        "residsq = offset*0\n",
        "for i in range(len(offset)):\n",
        "  residsq[i] = #CODE 25: use powerLawResidualSqSum to calculate the residual for lg_h, lg_tau and offset[i] \n",
        "  \n",
        "plt.plot(offset, residsq);"
      ],
      "execution_count": null,
      "outputs": []
    },
    {
      "cell_type": "markdown",
      "metadata": {
        "id": "NYvVPJ6I1X16"
      },
      "source": [
        "By eye, you might be able to find the best guess for h0, but we can actually ask python to find the true minimum, using scipy.optimize. We'll worry about how this works later, but for now just run the code block below to find the minimum "
      ]
    },
    {
      "cell_type": "code",
      "metadata": {
        "id": "zuCN8ijsiweD",
        "colab": {
          "base_uri": "https://localhost:8080/",
          "height": 295
        },
        "outputId": "e83f5c17-3527-472d-b04c-915a3c54fd4d"
      },
      "source": [
        "res = scipy.optimize.minimize(lambda h : powerLawResidualSqSum(lg_h, lg_tau,h), 5)\n",
        "h_opt = res.x[0]\n",
        "rsq = res.fun\n",
        "plt.plot(offset, residsq, 'b-', h_opt, rsq, 'm*')\n",
        "plt.xlabel ('separation offset')\n",
        "plt.ylabel ('sum of residuals squared')\n",
        "plt.title('h_opt = {:.2f}mm'.format(h_opt));"
      ],
      "execution_count": null,
      "outputs": [
        {
          "output_type": "display_data",
          "data": {
            "text/plain": [
              "<Figure size 432x288 with 1 Axes>"
            ],
            "image/png": "[encoded data removed]"
          },
          "metadata": {
            "needs_background": "light"
          }
        }
      ]
    },
    {
      "cell_type": "markdown",
      "metadata": {
        "id": "HHcsmbQe2QTH"
      },
      "source": [
        "Finally, using the best value of the separation (h0) you calculated above, find the power law exponent and plot the data and the fit for lifetime vs. separation together. \n",
        "\n",
        "Then, in another figure, plot the residuals with the error bars of the measurements.. x:lg_h, y: lg_tau - $\\tau_{fit}$, error bars: lg_tau_sem\n",
        "\n"
      ]
    },
    {
      "cell_type": "code",
      "metadata": {
        "id": "lBtG_fBVja-L",
        "colab": {
          "base_uri": "https://localhost:8080/",
          "height": 557
        },
        "outputId": "211d7bdf-2bba-47fa-833e-0fd97aee5b9e"
      },
      "source": [
        "x = np.log(np.array(lg_h) + h_opt)\n",
        "y = np.log(lg_tau)\n",
        "\n",
        "m,b,yfit = #CODE 26: fit to a line y = mx + b\n",
        "lg_taufit = np.exp(yfit)\n",
        "\n",
        "#CODE 27: plot lg_tau vs. lg_h with blue circles and lg_taufit vs lg_h with a black dashed line \n",
        "plt.xlabel('separation (mm)')\n",
        "plt.ylabel('lifetime (s)')\n",
        "plt.title('tau ~ (h + {:.2f})^{:.1f}'.format(h_opt, m) );\n",
        "\n",
        "plt.figure()\n",
        "#CODE 28: error bar plot of lg_tau-lg_taufit vs. lg_h, yerr = lg_tau_sem\n",
        "plt.xlabel('separation (mm)')\n",
        "plt.ylabel('residuals and sem (s)')\n",
        "\n",
        "#Add a black dashed line across the x-axis by plotting lg_h*0 vs lg_h. \n",
        "plt.plot(lg_h, lg_h*0, 'k--');"
      ],
      "execution_count": null,
      "outputs": [
        {
          "output_type": "display_data",
          "data": {
            "text/plain": [
              "<Figure size 432x288 with 1 Axes>"
            ],
            "image/png": "[encoded data removed]"
          },
          "metadata": {
            "needs_background": "light"
          }
        },
        {
          "output_type": "display_data",
          "data": {
            "text/plain": [
              "<Figure size 432x288 with 1 Axes>"
            ],
            "image/png": "[encoded data removed]"
          },
          "metadata": {
            "needs_background": "light"
          }
        }
      ]
    },
    {
      "cell_type": "markdown",
      "metadata": {
        "id": "1TVctinx24sh"
      },
      "source": [
        "#Small bob time!\n",
        "\n",
        "Please reuse the analysis steps you did above to calculate lifetime vs separation for the small bob. You do not need to do the power law fit (but you can if you want)\n",
        "\n",
        "Then make two additional plots\n",
        "1. Plot lifetime vs. separation for the large and small bobs on the same graph. Use blue circles for the large bob and red circles for the small bob. Add a legend to the plot.\n",
        "2. Make the same plot, but this time, multiply the small bob lifetime by (4/3)^3. Does this analysis support the relation $\\tau \\propto m_{bob}$?\n",
        "\n"
      ]
    },
    {
      "cell_type": "code",
      "source": [
        "sm_dir = (\"1\", \"2\", \"3\", \"4\", \"5\", \"6\", \"7\", \"8\",\"9\",\"10\") #if needed, replace with your directory names\n",
        "sm_h = np.array((1,2,3,4,5,6,7,8,9,10),'float') #if you changed directory names, make sure you have matching distances here\n",
        "\n",
        "sm_dirs_to_analyze = [smallBobFiles[k] for k in lg_dir]\n",
        "\n",
        "#initialize numpy arrays\n",
        "sm_tau = sm_h*0.;\n",
        "sm_tau_sigma = sm_h*0.;\n",
        "sm_tau_sem = sm_h*0.;\n",
        "\n",
        "for i in range(len(sm_dirs_to_analyze)):\n",
        "    #CODE 29: (4 lines) calculate the lifetimes for the experiments in the directory, their means, their standard deviations, and their standard errors - make sure you use \"sm_dirs_to_analyze\" and not \"dirs_to_analyze\"\n",
        "\n",
        "#CODE 30 (multiple lines): plot lifetime vs. separation for large and small bobs on same axes - blue circles for large bob, red circles for small bob; add a legend\n",
        "\n",
        "#CODE 31 (mulitple lines): same as code 30, but plot (4.0/3.0)**3 times the small bob lifetime"
      ],
      "metadata": {
        "id": "8H14kTxM9vvn"
      },
      "execution_count": null,
      "outputs": []
    }
  ]
}